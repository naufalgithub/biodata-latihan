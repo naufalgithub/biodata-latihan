{
 "cells": [
  {
   "cell_type": "code",
   "execution_count": 10,
   "id": "58703068",
   "metadata": {},
   "outputs": [
    {
     "name": "stdout",
     "output_type": "stream",
     "text": [
      "BIODATA\n",
      "NAMA    : MUHAMMAD NAUFAL TRIANTAMA PUTRA\n",
      "KELAS   : KELAS E\n",
      "JURUSAN : TEKNIK INFORMATIKA\n",
      "QUOTE   : Belajarlah Mengalah Sampai Tak Seorangpun Yang Bisa Mengalahkanmu\n"
     ]
    }
   ],
   "source": [
    "NAMA = \"MUHAMMAD NAUFAL TRIANTAMA PUTRA\"\n",
    "KELAS = \"KELAS E\"\n",
    "JURUSAN = \"TEKNIK INFORMATIKA\"\n",
    "QUOTE = \"Belajarlah Mengalah Sampai Tak Seorangpun Yang Bisa Mengalahkanmu\"\n",
    "print(\"BIODATA\")\n",
    "print(\"NAMA    :\",NAMA)\n",
    "print(\"KELAS   :\",KELAS)\n",
    "print(\"JURUSAN :\",JURUSAN)\n",
    "print(\"QUOTE   :\",QUOTE)"
   ]
  }
 ],
 "metadata": {
  "kernelspec": {
   "display_name": "Python 3 (ipykernel)",
   "language": "python",
   "name": "python3"
  },
  "language_info": {
   "codemirror_mode": {
    "name": "ipython",
    "version": 3
   },
   "file_extension": ".py",
   "mimetype": "text/x-python",
   "name": "python",
   "nbconvert_exporter": "python",
   "pygments_lexer": "ipython3",
   "version": "3.9.12"
  }
 },
 "nbformat": 4,
 "nbformat_minor": 5
}
